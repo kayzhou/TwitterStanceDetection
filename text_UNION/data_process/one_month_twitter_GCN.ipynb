{
 "cells": [
  {
   "cell_type": "code",
   "execution_count": 49,
   "id": "ab3c3a02",
   "metadata": {},
   "outputs": [
    {
     "name": "stderr",
     "output_type": "stream",
     "text": [
      "1123757it [00:16, 70211.84it/s]\n"
     ]
    }
   ],
   "source": [
    "import json\n",
    "from tqdm import tqdm\n",
    "text_path = r\"/home/kayzhou/zhangyue/text/data_GCN/202010-text.lj\"\n",
    "user_id_set= set()\n",
    "tweet_id_set = set()\n",
    "tweet_id_tweet = {}\n",
    "user_tweet_id = {}\n",
    "user_id_tag={}\n",
    "tr_tweet_set=set()\n",
    "for line in tqdm(open(text_path,\"r\",encoding=\"utf8\")):\n",
    "    line= json.loads(line)\n",
    "    user_id = line[\"user_id\"]\n",
    "    tweet_id=line[\"tweet_id\"]\n",
    "    user_id_set.add(user_id)\n",
    "    tweet_id_set.add(tweet_id)\n",
    "    tweet_id_tweet[tweet_id]=[line[\"text\"],line[\"label\"]]\n",
    "    user_tweet_id.setdefault(user_id,set()).add(tweet_id)\n",
    "    user_id_tag.setdefault(user_id,[]).append(line[\"label\"])\n",
    "    if line[\"text\"][0:2]==\"RT\":\n",
    "        tr_tweet_set.add(tweet_id)\n",
    "    \n",
    "    "
   ]
  },
  {
   "cell_type": "code",
   "execution_count": 50,
   "id": "ff366822",
   "metadata": {},
   "outputs": [
    {
     "data": {
      "text/plain": [
       "0.0006416023507028705"
      ]
     },
     "execution_count": 50,
     "metadata": {},
     "output_type": "execute_result"
    }
   ],
   "source": [
    "len(tr_tweet_set)/len(tweet_id_set)"
   ]
  },
  {
   "cell_type": "code",
   "execution_count": 35,
   "id": "d9ef8d62",
   "metadata": {},
   "outputs": [
    {
     "name": "stdout",
     "output_type": "stream",
     "text": [
      "724057\n"
     ]
    }
   ],
   "source": [
    "from collections import Counter\n",
    "tag=[]\n",
    "for i in tweet_id_tweet:\n",
    "    tag_=tweet_id_tweet[i][1]\n",
    "    tag.append(tag_)\n",
    "\n",
    "print(Counter(tag)[\"JB\"])"
   ]
  },
  {
   "cell_type": "code",
   "execution_count": 40,
   "id": "74ae16ba",
   "metadata": {},
   "outputs": [
    {
     "name": "stdout",
     "output_type": "stream",
     "text": [
      "4023\n"
     ]
    }
   ],
   "source": [
    "#对用户进行标记且统计其比例分布\n",
    "precent_list=[]\n",
    "j=0\n",
    "for i in user_id_tag:\n",
    "    A=Counter(user_id_tag[i])\n",
    "    precent = A['JB']/len(user_id_tag[i])\n",
    "    precent_list.append(precent)\n",
    "    if precent==0.5:\n",
    "        j=j+1\n",
    "print(j)\n",
    "    \n"
   ]
  },
  {
   "cell_type": "code",
   "execution_count": 39,
   "id": "cdbc8796",
   "metadata": {},
   "outputs": [
    {
     "data": {
      "image/png": "[encoded data removed]",
      "text/plain": [
       "<Figure size 640x480 with 1 Axes>"
      ]
     },
     "metadata": {},
     "output_type": "display_data"
    }
   ],
   "source": [
    "import numpy as np\n",
    "import matplotlib.pyplot as plt\n",
    "import os #导入os库\n",
    "import matplotlib\n",
    "matplotlib.rcParams['font.sans-serif'] = ['SimHei']     # 显示中文\n",
    "matplotlib.rcParams['axes.unicode_minus'] = False\n",
    "# my_x_ticks = np.arange(0, 260, 20)\n",
    "\n",
    "# # plt.figure(figsize=(6,4))## 设置画布\\n\",\n",
    "# plt.xticks(my_x_ticks)\n",
    "plt.hist(precent_list,edgecolor=\"black\",bins=20)\n",
    "plt.xlabel(\"biden precent\")\n",
    "plt.ylabel(\"count\")\n",
    "plt.show()"
   ]
  },
  {
   "cell_type": "code",
   "execution_count": 1,
   "id": "c1834f26",
   "metadata": {},
   "outputs": [
    {
     "name": "stderr",
     "output_type": "stream",
     "text": [
      "8it [00:00, 4771.68it/s]"
     ]
    },
    {
     "name": "stdout",
     "output_type": "stream",
     "text": [
      "{'hashtags': [{'text': 'BidenHarris2020'}], 'user_id': '226201248', 'tweet_id': '1300282096334897157', 'text': \"@TDN_NOTICIAS @realDonaldTrump This is @realDonaldTrump's America.  #BidenHarris2020\", 'label': 'JB'}\n",
      "{'hashtags': [{'text': 'MAGA2020'}], 'user_id': '1288290125017944064', 'tweet_id': '1300282096091566082', 'text': '@JustInformU @JoeBiden @JoeBiden  if you don’t debate @realDonaldTrump  you definitely shouldn’t be able to be considered a presidential candidate. Also shouldn’t your dementia be checked and disqualify you? Invoking the 25th is their first step. To bad they missed winning first #MAGA2020', 'label': 'DT'}\n",
      "{'hashtags': [{'text': 'TrumpRiots'}, {'text': 'SaveAmericaVoteDemocrats'}, {'text': 'VoteBidenHarris2020'}], 'user_id': '1253723061330812928', 'tweet_id': '1300282095152099329', 'text': '@mmpadellan Me either. trump* loves the hate and violence. Right?  This is Trump’s America. Save America VOTE DEMOCRATS.  #TrumpRiots  #SaveAmericaVoteDemocrats  #VoteBidenHarris2020', 'label': 'JB'}\n",
      "{'hashtags': [{'text': 'LawAndOrderNow'}, {'text': 'lawandorder'}, {'text': 'trump2020'}, {'text': 'KAG'}, {'text': 'KAG2020'}], 'user_id': '596902486', 'tweet_id': '1300282089460379648', 'text': '@JoeBiden @realDonaldTrump has been trying to stop these RIOTS since they started. You have been vegetating in your basement. DEM mayors have all declined help. Out of touch. Unacceptable for the citizens of this great country. #LawAndOrderNow #lawandorder #trump2020 #KAG #KAG2020', 'label': 'DT'}\n",
      "{'hashtags': [{'text': 'liar'}, {'text': 'FakePresident'}], 'user_id': '1271139420050124800', 'tweet_id': '1300282086490742784', 'text': '@realDonaldTrump What a joke! You’ve broken the law more than any president in US history! #liar #FakePresident', 'label': 'JB'}\n",
      "{'hashtags': [{'text': 'bidenriots'}, {'text': 'Maga2020'}], 'user_id': '1289619996717379584', 'tweet_id': '1300282081088471042', 'text': '@n5iln @AngryLuca @ArtemisEaster @CybertheRobotD1 Did Nazi opposition go on live TV and call rioters, looters, and criminals patriots? Did  they raise money to bail them out of jail? With the Democratic Party condoning this and the media blatantly lying, a sane person could not possibly blame this on Trump #bidenriots #Maga2020', 'label': 'DT'}\n",
      "{'hashtags': [{'text': 'BidensRiots'}, {'text': 'BreakingNews'}, {'text': 'TrumpRiots'}, {'text': 'TrumpsAmerica'}, {'text': 'TrumpChaos'}, {'text': 'TrumpIsANationalDisgrace'}, {'text': 'SundayThoughts'}, {'text': 'MAGATerrorists'}, {'text': 'JoeBidenKamalaHarris2020'}], 'user_id': '1017815060419407877', 'tweet_id': '1300282075212283904', 'text': 'Hey @realDonaldTrump supporters, news flash, #BidensRiots won’t work, because he isn’t the president. Must be very desperate now? #BreakingNews #TrumpRiots #TrumpsAmerica #TrumpChaos #TrumpIsANationalDisgrace #SundayThoughts #MAGATerrorists #JoeBidenKamalaHarris2020', 'label': 'JB'}\n",
      "{'hashtags': [{'text': 'hypocrite'}, {'text': 'trump2020'}, {'text': 'maga'}, {'text': '6percent'}], 'user_id': '616198763', 'tweet_id': '1300282046800113664', 'text': '@KamalaHarris @JoeBiden Like @BarackObama , she evolved #hypocrite #trump2020 #maga #6percent @realDonaldTrump', 'label': 'DT'}\n",
      "{'hashtags': [{'text': 'WalkAwayFromDemocrats'}], 'user_id': '1300235434891632640', 'tweet_id': '1300282037090136064', 'text': 'Stand with @realDonaldTrump or lay in the sewers with these rats. #WalkAwayFromDemocrats Nov3rd https://t.co/2VkwR0hmlk', 'label': 'DT'}\n"
     ]
    },
    {
     "name": "stderr",
     "output_type": "stream",
     "text": [
      "\n"
     ]
    }
   ],
   "source": [
    "# import json\n",
    "# from tqdm import tqdm\n",
    "# text_path = r\"/home/kayzhou/zhangyue/text/data_GCN/202008-text-v2.lj\"\n",
    "# i=1\n",
    "# for line in tqdm(open(text_path,\"r\",encoding=\"utf8\")):\n",
    "#     line= json.loads(line)\n",
    "#     i=i+1\n",
    "#     print(line)\n",
    "#     if i >= 10:\n",
    "#         break"
   ]
  },
  {
   "cell_type": "code",
   "execution_count": 2,
   "id": "682eceec",
   "metadata": {},
   "outputs": [
    {
     "name": "stderr",
     "output_type": "stream",
     "text": [
      "126415536it [10:29, 200825.75it/s]\n"
     ]
    }
   ],
   "source": [
    "#不要没有t字段的信息，同时对于有t字段的信息认为被转发文本与转发文本的文本内容一样并共用1个tweet_id\n",
    "network_path = r\"/home/kayzhou/zhangyue/text/data_GCN/202010-network.lj\"\n",
    "user_id_retweeted_user_id = {}\n",
    "for line in tqdm(open(network_path,\"r\",encoding=\"utf8\")):\n",
    "    line= json.loads(line)\n",
    "    try:\n",
    "        r_user_id = line[\"r_uid\"]\n",
    "        user_id = line['uid']\n",
    "        tweet_id = line[\"tid\"]\n",
    "        r_tweet_id = line[\"r_tid\"]\n",
    "        tweet_text = line[\"t\"]\n",
    "        if  tweet_id in tweet_id_set | r_tweet_id in tweet_id_set:\n",
    "            user_id_set.add(user_id)\n",
    "            user_id_set.add(r_user_id)\n",
    "            tweet_id_tweet[tweet_id]=[tweet_text]\n",
    "            user_tweet_id.setdefault(user_id,set()).add(tweet_id)\n",
    "            user_tweet_id.setdefault(r_user_id,set()).add(tweet_id)\n",
    "            user_id_retweeted_user_id.setdefault(user_id,set()).add(r_user_id)\n",
    "    except:\n",
    "        pass\n",
    "    \n",
    "\n"
   ]
  },
  {
   "cell_type": "code",
   "execution_count": null,
   "id": "b2e55571",
   "metadata": {},
   "outputs": [],
   "source": [
    "# network_path = r\"E:\\学校机器相关\\数据\\普通方法需要数据\\202010-network.lj\"\n",
    "# i=1\n",
    "# for line in tqdm(open(network_path,\"r\",encoding=\"utf8\")):\n",
    "#     line= json.loads(line) \n",
    "#     try:\n",
    "#         r_t = line[\"r_t\"]\n",
    "#         print(line)\n",
    "#     except:\n",
    "#         pass\n"
   ]
  },
  {
   "cell_type": "code",
   "execution_count": 4,
   "id": "f707b83c",
   "metadata": {},
   "outputs": [],
   "source": [
    "user_id_list = sorted(list(user_id_set))\n",
    "tweet_id_list = sorted(list(tweet_id_set))"
   ]
  },
  {
   "cell_type": "code",
   "execution_count": 5,
   "id": "50363231",
   "metadata": {},
   "outputs": [
    {
     "data": {
      "text/plain": [
       "(311618, 1123749)"
      ]
     },
     "execution_count": 5,
     "metadata": {},
     "output_type": "execute_result"
    }
   ],
   "source": [
    "len(user_id_set),len(tweet_id_set)"
   ]
  },
  {
   "cell_type": "code",
   "execution_count": 17,
   "id": "126bab48",
   "metadata": {},
   "outputs": [],
   "source": [
    "import gc\n",
    "del user_id_set,tweet_id_set"
   ]
  },
  {
   "cell_type": "code",
   "execution_count": 6,
   "id": "3a4fbc8d",
   "metadata": {},
   "outputs": [],
   "source": [
    "user_id_mapping = {user_id:i for i,user_id in enumerate(user_id_list)}\n",
    "tweet_id_mapping = {tweet_id:i+len(user_id_list) for i,tweet_id in enumerate(tweet_id_list)}"
   ]
  },
  {
   "cell_type": "code",
   "execution_count": 19,
   "id": "6ba8b62c",
   "metadata": {},
   "outputs": [],
   "source": [
    "del user_id_list,tweet_id_list"
   ]
  },
  {
   "cell_type": "markdown",
   "id": "0440f238",
   "metadata": {},
   "source": [
    "对文本进行处理"
   ]
  },
  {
   "cell_type": "code",
   "execution_count": 8,
   "id": "cdfc1d4c",
   "metadata": {},
   "outputs": [],
   "source": [
    "classfied_hashtag_list = []\n",
    "for line in open(r\"/home/kayzhou/zhangyue/text/data_GCN/top200.txt\",\"r\",encoding=\"utf8\"):\n",
    "    classfied_hashtag = line.strip().split(\" \")[0]\n",
    "    classfied_hashtag_list.append(classfied_hashtag)"
   ]
  },
  {
   "cell_type": "code",
   "execution_count": 7,
   "id": "d4069f79",
   "metadata": {},
   "outputs": [],
   "source": [
    "# 推文特征嵌入\n",
    "import collections\n",
    "import re\n",
    "import unicodedata\n",
    "from itertools import chain\n",
    "from string import punctuation\n",
    "\n",
    "import numpy as np\n",
    "from nltk import BigramAssocMeasures, ngrams, precision, recall\n",
    "from nltk.corpus import stopwords\n",
    "from nltk.probability import ConditionalFreqDist, FreqDist\n",
    "from nltk.tokenize.casual import (EMOTICON_RE, HANG_RE, \n",
    "                                  TweetTokenizer, _replace_html_entities,\n",
    "                                  reduce_lengthening, remove_handles)\n",
    "\n",
    "\n",
    "def read_classified_hashtags(now, label2num=None):\n",
    "    print(\"func read_classified_hashtags ...\")        \n",
    "    print(\"label > num:\", label2num)\n",
    "    \n",
    "    hts = []\n",
    "    classified_hts = {i: set() for i in range(len(label2num))}\n",
    "\n",
    "    for line in open(f\"data/{now}/hashtags.txt\"):\n",
    "        if not line.startswith(\"#\"):\n",
    "            # _ht, _label, _cate = line.strip().split()\n",
    "            _ht, _label, = line.strip().split()\n",
    "            # print(\"hashtag:\", _ht, \"label:\", _label)\n",
    "            if _label in label2num:\n",
    "                hts.append(_ht)\n",
    "                classified_hts[label2num[_label]].add(_ht)\n",
    "    # print(hts)\n",
    "    # print(classified_hts)\n",
    "    return hts, classified_hts\n",
    "\n",
    "#==============================================================================\n",
    "# bag of words\n",
    "#==============================================================================\n",
    "\n",
    "\n",
    "def bag_of_words(words):\n",
    "    return dict([(word, True) for word in words])\n",
    "\n",
    "\n",
    "def bag_of_words_and_bigrams(words):\n",
    "    bigrams = ngrams(words, 2)\n",
    "    return bag_of_words(chain(words, bigrams))\n",
    "\n",
    "\n",
    "def normalize_hashtags(text, ignores):\n",
    "    \"\"\"\n",
    "    Replace Twitter username handles with '#HT'.\n",
    "    \"\"\"\n",
    "    \n",
    "    def _replace(matched):\n",
    "        if matched.group(0).lower() in ignores:\n",
    "            return \"#HT\"\n",
    "        else:\n",
    "            return matched.group(0)\n",
    "\n",
    "    pattern = re.compile(r\"\\B#(\\w*[A-Za-z_]+\\w*)\")\n",
    "    return pattern.sub(_replace, text)\n",
    "\n",
    "\n",
    "def normalize_urls(text):\n",
    "    \"\"\"\n",
    "    Replace urls with 'URL'.\n",
    "    \"\"\"\n",
    "    # pattern = re.compile(\n",
    "    #     r\"\"\"(?i)\\b((?:[a-z][\\w-]+:(?:/{1,3}|[a-z0-9%])|www\\d{0,3}[.]|[a-z0-9.\\-]+[.][a-z]{2,4}/)(?:[^\\s()<>]+|\\(([^\\s()<>]+|(\\([^\\s()<>]+\\)))*\\))+(?:\\(([^\\s()<>]+|(\\([^\\s()<>]+\\)))*\\)|[^\\s`!()\\[\\]{};:'\".,<>?«»“”‘’]))\"\"\")\n",
    "    pattern = re.compile(\n",
    "        r\"\"\"http[s]?://(?:[a-zA-Z]|[0-9]|[$-_@.&+]|[!*\\(\\), ]|(?:%[0-9a-fA-F][0-9a-fA-F]))+\"\"\"\n",
    "    )\n",
    "    \n",
    "    # first shorten consecutive punctuation to 3\n",
    "    # to avoid the pattern to hang in exponential loop in extreme cases.\n",
    "    text = HANG_RE.sub(r'\\1\\1\\1', text)\n",
    "\n",
    "    return pattern.sub('URL', text)\n",
    "\n",
    "\n",
    "class CustomTweetTokenizer(TweetTokenizer):\n",
    "    \"\"\" Custom tweet tokenizer based on NLTK TweetTokenizer\"\"\"\n",
    "\n",
    "    def __init__(self, hashtags=None, preserve_case=False, reduce_len=True, strip_handles=False,\n",
    "                 normalize_usernames=False, normalize_urls=True):\n",
    "\n",
    "        TweetTokenizer.__init__(self, preserve_case=preserve_case, reduce_len=reduce_len,\n",
    "                                strip_handles=strip_handles)\n",
    "\n",
    "        if hashtags:\n",
    "            self.hashtags_marked = set(\n",
    "                [\"#\" + ht for ht in hashtags]\n",
    "            )\n",
    "        else:\n",
    "            self.hashtags_marked = set()\n",
    "\n",
    "        self.normalize_urls = normalize_urls\n",
    "        self.normalize_usernames = normalize_usernames\n",
    "\n",
    "        # if normalize_usernames:\n",
    "        #    self.strip_handles = False\n",
    "\n",
    "        if self.preserve_case:\n",
    "            self.keep_allupper = True\n",
    "\n",
    "\n",
    "    def _lowerize(self, word):\n",
    "        if EMOTICON_RE.search(word):\n",
    "            return word\n",
    "        elif word == 'URL' or word == \"@USER\" or word == \"#HT\":\n",
    "            return word\n",
    "        elif word.isupper():\n",
    "            return word\n",
    "        else:\n",
    "            return word.lower()\n",
    "    \n",
    "    \n",
    "    def tokenize(self, text):\n",
    "        \"\"\"\n",
    "        :param text: str\n",
    "        :rtype: list(str)\n",
    "        :return: a tokenized list of strings;\n",
    "\n",
    "        Normalizes URLs, usernames and word lengthening depending of the\n",
    "        attributes of the instance.\n",
    "\n",
    "        \"\"\"\n",
    "        # Fix HTML character entities:\n",
    "        text = _replace_html_entities(text)\n",
    "\n",
    "        # Remove or replace username handles\n",
    "        if self.strip_handles:\n",
    "            text = remove_handles(text)\n",
    "            \n",
    "        # elif self.normalize_usernames:\n",
    "        #     text = normalize_mentions(text)\n",
    "\n",
    "        # Normalize hashtags, we can't use classified hashtags.\n",
    "        text = normalize_hashtags(text, self.hashtags_marked)\n",
    "        \n",
    "        if self.normalize_urls:\n",
    "            # Shorten problematic sequences of characters\n",
    "            text = normalize_urls(text)\n",
    "\n",
    "        # Normalize word lengthening\n",
    "        if self.reduce_len:\n",
    "            text = HANG_RE.sub(r'\\1\\1\\1', text)\n",
    "            text = reduce_lengthening(text)\n",
    "\n",
    "        # Tokenize:\n",
    "        safe_text = HANG_RE.sub(r'\\1\\1\\1', text)\n",
    "        words = TweetTokenizer().WORD_RE.findall(safe_text)\n",
    "\n",
    "        # Possibly alter the case, but avoid changing emoticons like :D into :d:\n",
    "        # lower words but keep words that are all upper cases\n",
    "        if not self.preserve_case:\n",
    "            words = [self._lowerize(w) for w in words]\n",
    "\n",
    "        # print(words)\n",
    "        return words\n",
    "# import pickle as pkl\n",
    "# UNK, PAD = '<UNK>', '<PAD>' \n",
    "# def build_tweet_embedding(vocab_path,token,pad_size):\n",
    "#     words_line = []\n",
    "#     vocab = pkl.load(open(vocab_path, 'rb'))\n",
    "# #     print(f\"Vocab size: {len(vocab)}\")\n",
    "\n",
    "#     contents = []\n",
    "#     seq_len = len(token)\n",
    "#     if pad_size:\n",
    "#         if len(token) < pad_size:\n",
    "#             token.extend([PAD] * (pad_size - len(token)))\n",
    "#         else:\n",
    "#             token = token[:pad_size]\n",
    "#             seq_len = pad_size\n",
    "#     # word to id\n",
    "#     for word in token:\n",
    "#         words_line.append(vocab.get(word, vocab.get(UNK)))\n",
    "#     return words_line \n",
    "\n"
   ]
  },
  {
   "cell_type": "code",
   "execution_count": null,
   "id": "2c7745c9",
   "metadata": {},
   "outputs": [],
   "source": [
    "# import numpy as np\n",
    "# def get_words_embeding(glove_file):\n",
    "#     words_embeding_dict = {}\n",
    "#     words_embeding_set = set()#别人训练的glove所包含的词集合\n",
    "#     for word_vector in open(glove_file,\"r\",encoding='utf-8').readlines():\n",
    "#         word_vector = word_vector.rstrip().split()\n",
    "#         #print(word_vector)\n",
    "#         word = word_vector[0]  #这个零 代表的是索引  下面的 一  也是同样的道理\n",
    "#         vector = np.asarray(word_vector[1:], \"float32\")\n",
    "#         words_embeding_dict[word] = vector\n",
    "#         words_embeding_set.add(word)\n",
    "#     return words_embeding_dict,words_embeding_set\n",
    "# #返回的一个为word和对应的嵌入的字典，另一个为glove别人训练的模型中包含的word\n",
    "# words_embeding_dict,words_embeding_set = get_words_embeding(r\"/home/kayzhou/zhangyue/text/data_ML_ANNs/glove.twitter.27B.200d.txt\")\n"
   ]
  },
  {
   "cell_type": "code",
   "execution_count": null,
   "id": "668f21fb",
   "metadata": {},
   "outputs": [],
   "source": [
    "# from tqdm import tqdm\n",
    "# classfied_hashtag_list = []\n",
    "# for line in open(r\"/home/kayzhou/zhangyue/text/data_GCN/top200.txt\",\"r\"):\n",
    "#     classfied_hashtag = line.strip().split(\" \")[0]\n",
    "#     classfied_hashtag_list.append(classfied_hashtag)\n",
    "\n",
    "# tweet_embedding = []\n",
    "# for tweet_id in tqdm(tweet_id_mapping(tweet_id_list)):\n",
    "    \n",
    "#     text = tweet_id_tweet[tweet_id][0]\n",
    "#     t = CustomTweetTokenizer(hashtags=classfied_hashtag_list)\n",
    "#     word_list = t.tokenize(text)\n",
    "#     one_tweet_embeding = np.array([0]*200,dtype=\"float64\")\n",
    "    \n",
    "#     embeding_tweet_len = 0\n",
    "#     for word in word_list:\n",
    "#         if word in words_embeding_set: \n",
    "#             one_tweet_embeding += np.array(words_embeding_dict[word])  \n",
    "#             embeding_tweet_len += 1\n",
    "#     if embeding_tweet_len==0:\n",
    "#         one_tweet_final_embeding = one_tweet_embeding\n",
    "#     else:\n",
    "#         one_tweet_final_embeding = one_tweet_embeding/embeding_tweet_len\n",
    "#     tweet_embedding.append(one_tweet_final_embeding) \n",
    "    \n",
    "    \n",
    "    \n",
    "    \n",
    "#     words_line = build_tweet_embedding(r\"E:\\exp\\tweet_class\\data\\vocab.pkl\",word_list,64)\n",
    "#     embedding.append(words_line)\n",
    "\n",
    "    \n",
    "# embedding_pretrained = torch.tensor(np.load(dataset + '/data/' + embedding)[\"embeddings\"].astype('float32'))\n",
    "# embedding = nn.Embedding.from_pretrained(config.embedding_pretrained, freeze=False)            \n"
   ]
  },
  {
   "cell_type": "code",
   "execution_count": 10,
   "id": "fec22c26",
   "metadata": {},
   "outputs": [
    {
     "name": "stderr",
     "output_type": "stream",
     "text": [
      "100%|██████████| 1123749/1123749 [04:00<00:00, 4668.69it/s]\n"
     ]
    }
   ],
   "source": [
    "#统计处理后的推文长度以及标准差\n",
    "from tqdm import tqdm\n",
    "classfied_hashtag_list = []\n",
    "for line in open(r\"/home/kayzhou/zhangyue/text/data_GCN/top200.txt\",\"r\"):\n",
    "    classfied_hashtag = line.strip().split(\" \")[0]\n",
    "    classfied_hashtag_list.append(classfied_hashtag)\n",
    "t = CustomTweetTokenizer(hashtags=classfied_hashtag_list)\n",
    "\n",
    "tweet_len = []\n",
    "for tweet_id in tqdm(tweet_id_mapping):\n",
    "\n",
    "    tweet = tweet_id_tweet[tweet_id][0]\n",
    "    word_list = t.tokenize(tweet)\n",
    "    tweet_len.append(len(word_list))   \n",
    "\n",
    "\n",
    "        \n",
    "        "
   ]
  },
  {
   "cell_type": "code",
   "execution_count": 28,
   "id": "c696aa3e",
   "metadata": {},
   "outputs": [
    {
     "data": {
      "text/plain": [
       "260"
      ]
     },
     "execution_count": 28,
     "metadata": {},
     "output_type": "execute_result"
    }
   ],
   "source": [
    "max(tweet_len)"
   ]
  },
  {
   "cell_type": "code",
   "execution_count": 32,
   "id": "b4208e72",
   "metadata": {},
   "outputs": [
    {
     "data": {
      "image/png": "[encoded data removed]",
      "text/plain": [
       "<Figure size 640x480 with 1 Axes>"
      ]
     },
     "metadata": {},
     "output_type": "display_data"
    }
   ],
   "source": [
    "import numpy as np\n",
    "import matplotlib.pyplot as plt\n",
    "import os #导入os库\n",
    "import matplotlib\n",
    "matplotlib.rcParams['font.sans-serif'] = ['SimHei']     # 显示中文\n",
    "matplotlib.rcParams['axes.unicode_minus'] = False\n",
    "my_x_ticks = np.arange(0, 260, 20)\n",
    "\n",
    "# plt.figure(figsize=(6,4))## 设置画布\\n\",\n",
    "plt.xticks(my_x_ticks)\n",
    "plt.hist(tweet_len,edgecolor=\"black\",bins=50)\n",
    "plt.xlabel(\"tweet length\")\n",
    "plt.ylabel(\"count\")\n",
    "plt.show()\n",
    "\n",
    "# sns.histplot(tweet_len,kde=True)\n",
    "# plt.show()\n"
   ]
  },
  {
   "cell_type": "code",
   "execution_count": 8,
   "id": "a1927295",
   "metadata": {},
   "outputs": [
    {
     "name": "stderr",
     "output_type": "stream",
     "text": [
      "100%|██████████| 1123749/1123749 [04:02<00:00, 4631.37it/s]\n"
     ]
    }
   ],
   "source": [
    "from tqdm import tqdm\n",
    "classfied_hashtag_list = []\n",
    "for line in open(r\"/home/kayzhou/zhangyue/text/data_GCN/top200.txt\",\"r\"):\n",
    "    classfied_hashtag = line.strip().split(\" \")[0]\n",
    "    classfied_hashtag_list.append(classfied_hashtag)\n",
    "\n",
    "t = CustomTweetTokenizer(hashtags=classfied_hashtag_list)\n",
    "\n",
    "save_path = r\"/home/kayzhou/zhangyue/text/data_GCN/data_processed/tweet_id_token_10.txt\"\n",
    "f1 = open(save_path,'w',encoding=\"utf-8\")\n",
    "for tweet_id in tqdm(tweet_id_mapping):\n",
    "    try:\n",
    "        tweet = tweet_id_tweet[tweet_id][0]\n",
    "        word_list = t.tokenize(tweet)\n",
    "        if len(word_list)==0:\n",
    "            f1.write(str(tweet_id_mapping[tweet_id])+\"\\n\")\n",
    "        else:\n",
    "            f1.write(str(tweet_id_mapping[tweet_id]))\n",
    "            for word in word_list:\n",
    "                f1.write(\" \" + word)\n",
    "            f1.write(\"\\n\")\n",
    "    except:\n",
    "        f1.write(str(tweet_id_mapping[tweet_id]) + \"\\n\")\n",
    "f1.close()\n",
    "        \n"
   ]
  },
  {
   "cell_type": "code",
   "execution_count": 9,
   "id": "8fa00967",
   "metadata": {},
   "outputs": [],
   "source": [
    "import pickle\n",
    "with open(r'/home/kayzhou/zhangyue/text/data_GCN/data_processed/202010_mapping.pkl', \"wb\") as f:\n",
    "    pickle.dump([user_id_mapping,tweet_id_mapping], f)\n",
    "f.close()"
   ]
  },
  {
   "cell_type": "code",
   "execution_count": 12,
   "id": "4927b0ac",
   "metadata": {},
   "outputs": [],
   "source": [
    "# save_path = r\"/home/kayzhou/zhangyue/text/data_GCN/data_processed/tweet_id_token_10.txt\"\n",
    "# f1 = open(save_path,'w',encoding=\"utf-8\")\n",
    "# f1.write(\"100\")\n",
    "# for i in []:\n",
    "#     f1.write(\"100\"+str(i) + \"\\n\" + \"2\")\n",
    "# f1.close()"
   ]
  },
  {
   "cell_type": "code",
   "execution_count": null,
   "id": "4f45538f",
   "metadata": {},
   "outputs": [],
   "source": [
    "len(tweet_id_token)"
   ]
  },
  {
   "cell_type": "code",
   "execution_count": null,
   "id": "fe2d6521",
   "metadata": {},
   "outputs": [],
   "source": [
    "# j=0\n",
    "# for tweet_id in tweet_id_mapping:\n",
    "#    j=j+1 \n",
    "#    if j==89478485 | j==89478486:\n",
    "\n",
    "#       try:\n",
    "#          tweet = tweet_id_tweet[tweet_id][0]\n",
    "#          t = CustomTweetTokenizer(hashtags=classfied_hashtag_list)\n",
    "#          word_list = t.tokenize(tweet)\n",
    "#          print(word_list)\n",
    "#       except:\n",
    "#             print(\"no\")\n",
    "      \n"
   ]
  },
  {
   "cell_type": "code",
   "execution_count": 19,
   "id": "564b6744",
   "metadata": {},
   "outputs": [],
   "source": [
    "# import json\n",
    "# with open(r\"/home/kayzhou/zhangyue/text/data_GCN/data_processed/tweet_id_token_10.json\", \"w\",encoding=\"utf-8\") as f:\n",
    "#     f.write(json.dumps(tweet_id_token))\n",
    "# f.close()"
   ]
  },
  {
   "cell_type": "code",
   "execution_count": 4,
   "id": "d5c27d92",
   "metadata": {},
   "outputs": [
    {
     "data": {
      "text/plain": [
       "'president'"
      ]
     },
     "execution_count": 4,
     "metadata": {},
     "output_type": "execute_result"
    }
   ],
   "source": [
    "doc_inputs_raw[\"372604\"][0]"
   ]
  },
  {
   "cell_type": "code",
   "execution_count": null,
   "id": "ca75ceea",
   "metadata": {},
   "outputs": [],
   "source": [
    "#网络数据缺少文本内容，这里只构建单个图神经网络需要的数据\n",
    "import json\n",
    "from tqdm import tqdm\n",
    "tweet_id_tweet = {}\n",
    "for line in open(r\"E:\\tweet\\202001-train\\202001-text.lj\",\"r\",encoding=\"utf8\"):\n",
    "    line= json.loads(line)\n",
    "    tweet_id=line[\"tweet_id\"]\n",
    "    tweet_id_tweet[tweet_id]=[line[\"text\"],line[\"label\"]]"
   ]
  },
  {
   "cell_type": "markdown",
   "id": "3eec000b",
   "metadata": {},
   "source": [
    "# 邻接矩阵构建"
   ]
  },
  {
   "cell_type": "code",
   "execution_count": null,
   "id": "66437244",
   "metadata": {},
   "outputs": [],
   "source": [
    "# import numpy as np\n",
    "# import scipy.sparse as ss\n",
    "# node_num = len(user_id_list)+len(tweet_id_list)\n",
    "# A = ss.lil_matrix((node_num,node_num))"
   ]
  },
  {
   "cell_type": "code",
   "execution_count": 11,
   "id": "792f9124",
   "metadata": {},
   "outputs": [
    {
     "name": "stderr",
     "output_type": "stream",
     "text": [
      "100%|██████████| 311618/311618 [00:01<00:00, 167770.89it/s]\n",
      "0it [00:00, ?it/s]\n"
     ]
    }
   ],
   "source": [
    "#尝试\n",
    "node_num = len(user_id_list)+len(tweet_id_list)\n",
    "row = []\n",
    "col = []\n",
    "num = []\n",
    "for user_id in tqdm(user_tweet_id):\n",
    "    one_user_tweet_id_list = user_tweet_id[user_id]\n",
    "    for one_tweet_id in one_user_tweet_id_list:\n",
    "        row.append(user_id_mapping[user_id])\n",
    "        row.append(tweet_id_mapping[one_tweet_id])\n",
    "        col.append(tweet_id_mapping[one_tweet_id])\n",
    "        col.append(user_id_mapping[user_id])\n",
    "        num.append(1)\n",
    "        num.append(1)\n",
    "for user_id in tqdm(user_id_retweeted_user_id):\n",
    "    retweeted_tweet_id_list = user_id_retweeted_user_id[user_id]\n",
    "    for one_retweeted_tweet_id in retweeted_tweet_id_list:\n",
    "        row.append(user_id_mapping[user_id])\n",
    "        col.append(user_id_mapping[one_retweeted_tweet_id])\n",
    "        num.append(1)\n",
    "row = np.asarray(row)\n",
    "col = np.asarray(col)\n",
    "num = np.asarray(num)"
   ]
  },
  {
   "cell_type": "code",
   "execution_count": 12,
   "id": "bf385f20",
   "metadata": {},
   "outputs": [
    {
     "name": "stderr",
     "output_type": "stream",
     "text": [
      "/tmp/ipykernel_187521/3139242656.py:3: DeprecationWarning: `np.int` is a deprecated alias for the builtin `int`. To silence this warning, use `int` by itself. Doing this will not modify any behavior and is safe. When replacing `np.int`, you may wish to use e.g. `np.int64` or `np.int32` to specify the precision. If you wish to review your current use, check the release note link for additional information.\n",
      "Deprecated in NumPy 1.20; for more details and guidance: https://numpy.org/devdocs/release/1.20.0-notes.html#deprecations\n",
      "  B = ss.coo_matrix((num, (row, col)), shape=(node_num, node_num), dtype=np.int)\n"
     ]
    }
   ],
   "source": [
    "import numpy as np\n",
    "import scipy.sparse as ss\n",
    "B = ss.coo_matrix((num, (row, col)), shape=(node_num, node_num), dtype=np.int)"
   ]
  },
  {
   "cell_type": "code",
   "execution_count": 53,
   "id": "1de77907",
   "metadata": {},
   "outputs": [
    {
     "name": "stderr",
     "output_type": "stream",
     "text": [
      "100%|██████████| 8856557/8856557 [42:22<00:00, 3483.51it/s]  \n",
      "100%|██████████| 6209648/6209648 [04:24<00:00, 23469.09it/s] \n"
     ]
    }
   ],
   "source": [
    "# for user_id in tqdm(user_tweet_id):\n",
    "#     one_user_tweet_id_list = user_tweet_id[user_id]\n",
    "#     for one_tweet_id in one_user_tweet_id_list:\n",
    "#         A[user_id_mapping[user_id],tweet_id_mapping[one_tweet_id]]=1\n",
    "#         A[tweet_id_mapping[one_tweet_id],user_id_mapping[user_id]]=1\n",
    "\n",
    "# for user_id in tqdm(user_id_retweeted_user_id):\n",
    "#     retweeted_tweet_id_list = user_id_retweeted_user_id[user_id]\n",
    "#     for one_retweeted_tweet_id in retweeted_tweet_id_list:\n",
    "#         A[user_id_mapping[user_id],user_id_mapping[one_retweeted_tweet_id]]=1"
   ]
  },
  {
   "cell_type": "code",
   "execution_count": 55,
   "id": "d998e517",
   "metadata": {},
   "outputs": [
    {
     "name": "stdout",
     "output_type": "stream",
     "text": [
      "第四文档\n"
     ]
    },
    {
     "name": "stderr",
     "output_type": "stream",
     "text": [
      " 61%|██████████████████████████████████████████▋                           | 276487/452881 [00:00<00:00, 417161.24it/s]"
     ]
    },
    {
     "name": "stdout",
     "output_type": "stream",
     "text": [
      "404128101\n",
      "{'1214422922254856193', '1002555673660612608'}\n",
      "982841572302708736\n",
      "{'1002555673660612608'}\n"
     ]
    },
    {
     "name": "stderr",
     "output_type": "stream",
     "text": [
      "100%|██████████████████████████████████████████████████████████████████████| 452881/452881 [00:00<00:00, 467611.82it/s]\n"
     ]
    },
    {
     "name": "stdout",
     "output_type": "stream",
     "text": [
      "第1文档\n"
     ]
    },
    {
     "name": "stderr",
     "output_type": "stream",
     "text": [
      " 11%|███████▉                                                               | 50340/452881 [00:00<00:01, 256431.91it/s]"
     ]
    },
    {
     "name": "stdout",
     "output_type": "stream",
     "text": [
      "{'1214375600023990272', '1214513668936937472', '1214410604020002817', '1214562735087702019', '1214543569484206081', '1214511604697567232', '1214223064231268352', '1214383339626479617', '1214236914666156032', '1214227573800132608', '1214620211854422016', '1214440420094160896', '1214565710875070467', '1214664531517071360', '1214460996678344704', '1214415064582615040', '1213851134898491392', '1214684929352585217', '1214417892881522688', '1214560032353742849', '1214392500485378049', '1214609683484422145', '1214554090098876421', '1214409609584218112', '1214682997502304256', '1214697272992075778', '1214621930013237248', '1214376920932114433', '1214553869713317888', '1214563317911441415', '1214512672944934912', '1214554584015872001', '1214648764335439872', '1214350924526870528', '1214683669081686016', '1214563244125220865', '1214534187073622016', '1214634024527777792', '1214554105282215936', '1214466927151607808', '1214543477305946114', '1214395602638950400', '1213863630279565312', '1214402340842876928', '1214571142075338752', '1214564857242013698', '1214336120101777410', '1214541334897397760', '1212477885056987142', '1214387186432393216', '1215104619346628609', '1212929481012326401', '1214683801109975041', '1001336753586749441', '1214564057006477312', '1214299497498660866', '1214649245124325376', '1214616763276701699', '1214586849227706368', '1214637972538003456', '1214661495755169792', '1214413757427765248', '1214197381815832576', '1214466069013729280', '1214371468664016896', '1214461512095395840', '1213908662277812227', '1214638265434812417', '1214550173097086976', '1214466914187186176', '1214637632656830464', '1214580028568158213', '1222166600545193984', '1214702795346984960', '1214530647898935297', '1214621138548080646', '1214379640669659199', '1214634002780315648', '1214616155383586816', '1214673643336155136', '1214194425003466754', '1214554491636330496', '1214420982649237505', '1214557745862578176', '1214554878418259969', '1214407966906081281', '1214550080205807617', '1214562194542645263', '1214550445319962624', '1214666714836811776', '1214649008276328449', '1214246446544936960', '1214416612620681216', '1214373985988698112', '1214545678682198017', '1214423893374644226', '1214637687618994176', '1214683337144451073', '1214558487117615105', '1214644098931580928', '1214634059629903872', '1214566878904897536', '1214561388472848384', '1214567141120204801', '1214412006503043072', '1214375650309459968', '1212197687308754944', '1213921905327009792', '1214558912374099968', '1214550970828546048', '1213973650765950978', '1214541493702189056', '1214460918525878274', '1214661637119954945'}\n",
      "{'1220820232047955968', '1214378798050709505', '1214379640669659199', '1214320404820582400', '1035870857594195969', '1220821767976976385', '998349890919936000', '1001336753586749441', '1086921963593846784', '1176929025941356544', '1214677850134966272', '1214616763276701699', '1214407048407834624', '943604696337473536'}\n"
     ]
    },
    {
     "name": "stderr",
     "output_type": "stream",
     "text": [
      "100%|██████████████████████████████████████████████████████████████████████| 452881/452881 [00:01<00:00, 408675.00it/s]\n"
     ]
    }
   ],
   "source": [
    "#测试第4个文档转发情况\n",
    "# print(\"第四文档\")\n",
    "# for user_id in tqdm(user_tweet_id):\n",
    "#     one_user_tweet_id_list = user_tweet_id[user_id]\n",
    "#     for one_tweet_id in one_user_tweet_id_list:\n",
    "#         if one_tweet_id == '1002555673660612608':\n",
    "#             print(user_id)\n",
    "#             print(one_user_tweet_id_list)\n",
    "# print(\"第1文档\")            \n",
    "# for user_id in tqdm(user_tweet_id):\n",
    "#     one_user_tweet_id_list = user_tweet_id[user_id]\n",
    "#     for one_tweet_id in one_user_tweet_id_list:\n",
    "#         if one_tweet_id == '1001336753586749441':\n",
    "#             print(one_user_tweet_id_list)\n"
   ]
  },
  {
   "cell_type": "code",
   "execution_count": 13,
   "id": "dad652ef",
   "metadata": {},
   "outputs": [],
   "source": [
    "doc_label_list = []\n",
    "mask_idx = []\n",
    "for index,i in enumerate(tweet_id_list):\n",
    "    try:\n",
    "        label_str =  tweet_id_tweet[i][1]\n",
    "        if label_str == \"JB\":\n",
    "            label = 0\n",
    "        else:\n",
    "            label = 1\n",
    "    except:\n",
    "        print(\"nonononono\")\n",
    "    doc_label_list.append(label)\n",
    "            \n",
    "            \n",
    "        "
   ]
  },
  {
   "cell_type": "code",
   "execution_count": 14,
   "id": "26fbbb51",
   "metadata": {},
   "outputs": [
    {
     "data": {
      "text/plain": [
       "1123749"
      ]
     },
     "execution_count": 14,
     "metadata": {},
     "output_type": "execute_result"
    }
   ],
   "source": [
    "len(doc_label_list)"
   ]
  },
  {
   "cell_type": "code",
   "execution_count": 15,
   "id": "211259eb",
   "metadata": {},
   "outputs": [],
   "source": [
    "import random\n",
    "all_index = list(range(0,len(doc_label_list)))\n",
    "random.seed(2)\n",
    "test_index = list(random.sample(all_index,int(len(all_index)*0.1)))\n",
    "del_test_index =  list(set(all_index)^set(test_index))\n",
    "random.seed(2)\n",
    "train_index = list(random.sample(del_test_index,int(len(all_index)*0.8)))\n",
    "dev_index = list(set(del_test_index)^set(train_index))\n"
   ]
  },
  {
   "cell_type": "code",
   "execution_count": 16,
   "id": "5564cffb",
   "metadata": {},
   "outputs": [],
   "source": [
    "all_labels=[0,1]\n",
    "all_user = [user_id_mapping[i] for i in user_id_mapping]\n",
    "all_docs = [tweet_id_mapping[i] for i in tweet_id_mapping]"
   ]
  },
  {
   "cell_type": "code",
   "execution_count": 17,
   "id": "71ef728e",
   "metadata": {},
   "outputs": [],
   "source": [
    "raw_data={\"A\":[B],\"y\":doc_label_list,\"all_labels\":all_labels,'train_idx':train_index,\n",
    "      \"valid_idx\":dev_index,\"test_idx\":test_index,\"all_user\":all_user,\"all_docs\":all_docs}\n",
    "\n",
    "import pickle\n",
    "with open(r'/home/kayzhou/zhangyue/text/data_GCN/data_processed/one_month_network_202010.pkl', \"wb\") as f:\n",
    "    pickle.dump(raw_data, f)\n",
    "\n",
    "   "
   ]
  },
  {
   "cell_type": "code",
   "execution_count": 18,
   "id": "f441fecb",
   "metadata": {},
   "outputs": [],
   "source": [
    "f.close()"
   ]
  }
 ],
 "metadata": {
  "kernelspec": {
   "display_name": "Python 3",
   "language": "python",
   "name": "python3"
  },
  "language_info": {
   "codemirror_mode": {
    "name": "ipython",
    "version": 3
   },
   "file_extension": ".py",
   "mimetype": "text/x-python",
   "name": "python",
   "nbconvert_exporter": "python",
   "pygments_lexer": "ipython3",
   "version": "3.9.13"
  },
  "vscode": {
   "interpreter": {
    "hash": "e8d40850c2a0f24b66f067e47dfa0a8004f5b10da74c53ddf9ba21a3b5b0a20a"
   }
  }
 },
 "nbformat": 4,
 "nbformat_minor": 5
}
