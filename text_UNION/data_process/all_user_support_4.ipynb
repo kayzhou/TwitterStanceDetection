{
 "cells": [
  {
   "cell_type": "code",
   "execution_count": 1,
   "id": "3d99fd6a",
   "metadata": {},
   "outputs": [],
   "source": [
    "import os \n",
    "import pandas as pd\n",
    "from collections import Counter\n",
    "from tqdm import tqdm"
   ]
  },
  {
   "cell_type": "code",
   "execution_count": 3,
   "id": "3e68e8fa",
   "metadata": {},
   "outputs": [],
   "source": [
    "\n",
    "file_2 = open(r\"E:\\top200.txt\")\n",
    "tag_dict = {}\n",
    "hashtag_list = [] \n",
    "for line in file_2.readlines():\n",
    "    line=line.strip('\\n')\n",
    "    one_hashtag = str(line).split(' ')\n",
    "    if one_hashtag[1] == \"trump\" and one_hashtag[2] == \"trump\":\n",
    "        class_ = \"1\"\n",
    "    elif one_hashtag[1] == \"trump\" and one_hashtag[2] ==\"biden\":\n",
    "        class_=\"2\"\n",
    "    elif one_hashtag[1] == \"biden\" and one_hashtag[2] == \"biden\":\n",
    "        class_=\"3\"\n",
    "    else:\n",
    "        class_=\"4\"\n",
    "    tag_dict[one_hashtag[0]] = class_\n",
    "    hashtag_list.append(one_hashtag[0])\n",
    "hashtag_set = set(hashtag_list)\n",
    "    "
   ]
  },
  {
   "cell_type": "code",
   "execution_count": 6,
   "id": "bca9f317",
   "metadata": {},
   "outputs": [
    {
     "name": "stderr",
     "output_type": "stream",
     "text": [
      "100%|██████████████████████████████████████████████████████████████████████████████████| 10/10 [05:11<00:00, 31.11s/it]\n"
     ]
    }
   ],
   "source": [
    "rootdir = 'E:\\hashtags'\n",
    "list_ = os.listdir(rootdir) #列出文件夹下所有的目录与文件\n",
    "for i in tqdm(range(0,10)):\n",
    "    path = os.path.join(rootdir,list_[i])\n",
    "    #df = pd.read_table(path)\n",
    "    file = open(path,encoding='utf-8')\n",
    "    all_user_dict={} #存储每个月份的用户id以及对应的hashtag\n",
    "    for line in file.readlines():  \n",
    "        line = line.strip('\\n')\n",
    "        one_tweet = str(line).split(' ')\n",
    "        #print(one_tweet[1:])\n",
    "        for hashtag in one_tweet[1:]:\n",
    "            all_user_dict.setdefault(one_tweet[0],[]).append(hashtag)\n",
    "    conver_tag_dict = {}#将每个用户对应的hashtag转化为标签\n",
    "    for key in all_user_dict:   \n",
    "        for one_user_hashtag in all_user_dict[key]:\n",
    "            if one_user_hashtag in hashtag_set:\n",
    "                conver_tag_dict.setdefault(key,[]).append(tag_dict[one_user_hashtag])\n",
    "    #对每个用户的标签进行计数并存储\n",
    "    save_root = \"E:\\\\result\\\\hashtag_conver_tag_1to10_4class\\\\\"+str(list_[i][0:15])+\"_conver_tag.txt\"\n",
    "    f1 = open(save_root,'w')\n",
    "    for conver_tag_key in conver_tag_dict:\n",
    "        one_user_hashtag_list = conver_tag_dict[conver_tag_key]\n",
    "        trump_trump_num = one_user_hashtag_list.count(\"1\")\n",
    "        trump_biden_num = one_user_hashtag_list.count(\"2\")\n",
    "        biden_biden_num = one_user_hashtag_list.count(\"3\")\n",
    "        biden_trump_num = one_user_hashtag_list.count(\"4\")\n",
    "        trump_sum_num = trump_trump_num+trump_biden_num\n",
    "        biden_sum_num = biden_biden_num + biden_trump_num\n",
    "        f1.write(str(conver_tag_key)+\" \"+str(trump_trump_num)+\" \"+str(trump_biden_num)+ ' '\n",
    "                 +str(trump_sum_num)+\" \"+str(biden_biden_num)+\" \"+str(biden_trump_num)+\" \"+str(biden_sum_num)+\"\\n\")\n",
    "    f1.close()       "
   ]
  },
  {
   "cell_type": "code",
   "execution_count": 5,
   "id": "e915cd57",
   "metadata": {},
   "outputs": [
    {
     "name": "stderr",
     "output_type": "stream",
     "text": [
      "\r\n",
      "  0%|                                                                                            | 0/3 [00:00<?, ?it/s]"
     ]
    },
    {
     "name": "stdout",
     "output_type": "stream",
     "text": [
      "1-8_conver_tag.txt\n"
     ]
    },
    {
     "name": "stderr",
     "output_type": "stream",
     "text": [
      "\r\n",
      " 33%|████████████████████████████                                                        | 1/3 [00:16<00:32, 16.32s/it]"
     ]
    },
    {
     "name": "stdout",
     "output_type": "stream",
     "text": [
      "hashtags-202009_conver_tag.txt\n"
     ]
    },
    {
     "name": "stderr",
     "output_type": "stream",
     "text": [
      "\r\n",
      " 67%|████████████████████████████████████████████████████████                            | 2/3 [00:18<00:08,  8.28s/it]"
     ]
    },
    {
     "name": "stdout",
     "output_type": "stream",
     "text": [
      "hashtags-202010_conver_tag.txt\n"
     ]
    },
    {
     "name": "stderr",
     "output_type": "stream",
     "text": [
      "100%|████████████████████████████████████████████████████████████████████████████████████| 3/3 [00:24<00:00,  8.07s/it]\n",
      "100%|████████████████████████████████████████████████████████████████████| 2479579/2479579 [00:14<00:00, 165894.55it/s]\n"
     ]
    }
   ],
   "source": [
    "#1-8月总计\n",
    "rootdir = 'E:\\\\result\\\\hashtag_conver_tag_1to10_4class'\n",
    "list_ = os.listdir(rootdir)\n",
    "all_user_trump_trump_num_dict={}#每个用户在每个月中发表推文支持trump次数\n",
    "all_user_trump_biden_num_dict={}\n",
    "all_user_biden_biden_num_dict = {}\n",
    "all_user_biden_trump_num_dict={}\n",
    "for i in tqdm([0,9,10]):\n",
    "    path = os.path.join(rootdir,list_[i])\n",
    "    print(list_[i])\n",
    "    #df = pd.read_table(path)\n",
    "    file = open(path,encoding='utf-8')\n",
    "    for line in file.readlines():  \n",
    "        line = line.strip('\\n')\n",
    "        one_user = str(line).split(' ')\n",
    "        all_user_trump_trump_num_dict.setdefault(one_user[0],[]).append(one_user[1])\n",
    "        all_user_trump_biden_num_dict.setdefault(one_user[0],[]).append(one_user[2])\n",
    "        all_user_biden_biden_num_dict.setdefault(one_user[0],[]).append(one_user[4])\n",
    "        all_user_biden_trump_num_dict.setdefault(one_user[0],[]).append(one_user[5])\n",
    "\n",
    "\n",
    "all_user_1to8_dict = {}#一个用户对应4个值\n",
    "for user_id in tqdm(all_user_trump_trump_num_dict):    \n",
    "    trump_trump_sum = sum([int(x) for x in  all_user_trump_trump_num_dict[user_id]])\n",
    "    #print(\"trump_trump:\"+str(trump_trump_sum))\n",
    "    trump_biden_sum = sum([int(x) for x in  all_user_trump_biden_num_dict[user_id]])\n",
    "    #print(\"trump_biden:\"+str(trump_biden_sum))\n",
    "    biden_biden_sum = sum([int(x) for x in  all_user_biden_biden_num_dict[user_id]])\n",
    "    biden_trump_sum = sum([int(x) for x in  all_user_biden_trump_num_dict[user_id]])\n",
    "    trump_sum = trump_trump_sum + trump_biden_sum\n",
    "    #print(\"trump_sum:\"+str(trump_sum))\n",
    "    biden_sum = biden_biden_sum+biden_trump_sum\n",
    "    all_user_1to8_dict.setdefault(user_id,[]).append(trump_trump_sum)\n",
    "    all_user_1to8_dict.setdefault(user_id,[]).append(trump_biden_sum)\n",
    "    all_user_1to8_dict.setdefault(user_id,[]).append(trump_sum)\n",
    "    all_user_1to8_dict.setdefault(user_id,[]).append(biden_biden_sum)\n",
    "    all_user_1to8_dict.setdefault(user_id,[]).append(biden_trump_sum)\n",
    "    all_user_1to8_dict.setdefault(user_id,[]).append(biden_sum)\n",
    "    \n",
    "save_root = \"E:\\\\result\\\\hashtag_conver_tag_1to10_4class\\\\\"+\"1-10\"+\"_conver_tag.txt\"\n",
    "f1 = open(save_root,'w')\n",
    "for user_id in all_user_1to8_dict:\n",
    "    trump_trump_sum  = all_user_1to8_dict[user_id][0]\n",
    "    trump_biden_sum = all_user_1to8_dict[user_id][1]\n",
    "    trump_sum = all_user_1to8_dict[user_id][2]\n",
    "    biden_biden_sum = all_user_1to8_dict[user_id][3]\n",
    "    biden_trump_sum = all_user_1to8_dict[user_id][4]\n",
    "    biden_sum = all_user_1to8_dict[user_id][5]\n",
    "    f1.write(str(user_id)+\" \"+str(trump_trump_sum)+\" \"+str(trump_biden_sum)+ ' '\n",
    "                 +str(trump_sum)+\" \"+str(biden_biden_sum)+\" \"+str(biden_trump_sum)+\" \"+str(biden_sum)+\"\\n\")\n",
    "f1.close()    "
   ]
  },
  {
   "cell_type": "code",
   "execution_count": 4,
   "id": "bc59e4d4",
   "metadata": {},
   "outputs": [
    {
     "name": "stdout",
     "output_type": "stream",
     "text": [
      "['1-8_conver_tag.txt', 'hashtags-202001_conver_tag.txt', 'hashtags-202002_conver_tag.txt', 'hashtags-202003_conver_tag.txt', 'hashtags-202004_conver_tag.txt', 'hashtags-202005_conver_tag.txt', 'hashtags-202006_conver_tag.txt', 'hashtags-202007_conver_tag.txt', 'hashtags-202008_conver_tag.txt', 'hashtags-202009_conver_tag.txt', 'hashtags-202010_conver_tag.txt']\n"
     ]
    }
   ],
   "source": [
    "rootdir = 'E:\\\\result\\\\hashtag_conver_tag_1to10_4class'\n",
    "list_ = os.listdir(rootdir)\n",
    "print(list_)"
   ]
  },
  {
   "cell_type": "code",
   "execution_count": null,
   "id": "454b157d",
   "metadata": {},
   "outputs": [],
   "source": [
    "import os \n",
    "import pandas as pd\n",
    "from collections import Counter\n",
    "from tqdm import tqdm\n",
    "import matplotlib\n",
    "import matplotlib.pyplot as plt\n",
    "title_list = [\"202001-202010\",\"202001-202008\",\"202001\",\"202002\",\n",
    "              \"202003\",\"202004\",\"202005\",\"202006\",\"202007\",\"202008\",\"202009\",\"202010\"]\n",
    "matplotlib.rcParams['font.sans-serif'] = ['SimHei']\n",
    "matplotlib.rcParams['font.family']='sans-serif'\n",
    "rootdir = 'E:\\\\result\\\\hashtag_conver_tag_1to10_4class'\n",
    "list_ = os.listdir(rootdir)\n",
    "for i in tqdm(range(0,12)):\n",
    "    path = os.path.join(rootdir,list_[i])\n",
    "    df = pd.read_table(path,sep=\" \",header = None,\n",
    "                            names=[\"user_id\",\"trump_trump\",\"trump_biden\",\"trump_sum\",\"biden_biden\",\"biden_trump\",\"biden_sum\"])\n",
    "    df[\"trump_precent\"] = df[\"trump_trump\"]/df[\"trump_sum\"]\n",
    "    #df[\"biden_precent\"] = df[\"biden_biden\"]/df[\"biden_sum\"]\n",
    "    #df[\"trump_precent\"] = df['trump_precent'].fillna(0)#统计提到trump中支持trump未提到trump则不绘制到图上\n",
    "    print(df.head(5))\n",
    "    #print(df[\"biden_precent\"].describe())\n",
    "    plt.hist(x = df[\"trump_precent\"], # 指定绘图数据\n",
    "              bins = 20, # 指定直方图中条块的个数\n",
    "              color = 'steelblue', # 指定直方图的填充色\n",
    "              edgecolor = 'black' # 指定直方图的边框色\n",
    "              )\n",
    "    # 添加x轴和y轴标签\n",
    "    plt.xlabel('支持trump的百分比')\n",
    "    plt.ylabel('频数')\n",
    "    # 添加标题\n",
    "    title = str(title_list[i]) + \"支持trump的百分比直方图\"\n",
    "    plt.title(title)\n",
    "    # 显示图形\n",
    "    save_path = 'E:\\\\result\\\\picture_trump_4\\\\' + title + \".png\"\n",
    "    #plt.show()\n",
    "    plt.savefig(save_path,dpi=200)\n",
    "    plt.show()"
   ]
  },
  {
   "cell_type": "code",
   "execution_count": null,
   "id": "07f688bb",
   "metadata": {},
   "outputs": [],
   "source": []
  },
  {
   "cell_type": "code",
   "execution_count": 57,
   "id": "76a1db6a",
   "metadata": {},
   "outputs": [
    {
     "name": "stderr",
     "output_type": "stream",
     "text": [
      "  0%|                                                                                           | 0/12 [00:00<?, ?it/s]<ipython-input-57-18f3e409dc19>:17: UserWarning: Boolean Series key will be reindexed to match DataFrame index.\n",
      "  df_save = df[~df[\"trump\"].isin([\"3\"])][~df[\"biden\"].isin([\"3\"])]\n",
      "100%|██████████████████████████████████████████████████████████████████████████████████| 12/12 [00:35<00:00,  2.96s/it]\n"
     ]
    }
   ],
   "source": [
    "import os \n",
    "import pandas as pd\n",
    "from collections import Counter\n",
    "from tqdm import tqdm\n",
    "title_list = [\"202001-202010\",\"202001-202008\",\"202001\",\"202002\",\n",
    "              \"202003\",\"202004\",\"202005\",\"202006\",\"202007\",\"202008\",\"202009\",\"202010\"]\n",
    "rootdir = 'E:\\\\result\\\\hashtag_conver_tag_1to10_4class'\n",
    "list_ = os.listdir(rootdir)\n",
    "for i in tqdm(range(0,12)):\n",
    "    path = os.path.join(rootdir,list_[i])\n",
    "    df = pd.read_table(path,sep=\" \",header = None,\n",
    "                       names=[\"user_id\",\"trump_trump\",\"trump_biden\",\"trump_sum\",\"biden_biden\",\"biden_trump\",\"biden_sum\"])\n",
    "    df[\"trump_precent\"] = df[\"trump_trump\"]/df[\"trump_sum\"]\n",
    "    df[\"biden_precent\"] = df[\"biden_biden\"]/df[\"biden_sum\"]\n",
    "    df[\"trump\"] = [\"0\" if j==0 else(\"2\" if k<0.1 else(\"3\" if k<0.9 else \"1\")) for j,k in zip(df[\"trump_sum\"],df[\"trump_precent\"])]  \n",
    "    df[\"biden\"] = [\"0\" if j==0 else(\"2\" if k<0.1 else(\"3\" if k<0.9 else \"1\")) for j,k in zip(df[\"biden_sum\"],df[\"biden_precent\"])]  \n",
    "    df_save = df[~df[\"trump\"].isin([\"3\"])][~df[\"biden\"].isin([\"3\"])]\n",
    "    title = str(title_list[i])\n",
    "    save_path = 'E:\\\\result\\\\user_id_4\\\\' + title + \".txt\"\n",
    "    f1 = open(save_path,'w')\n",
    "    for user_id,trump,biden in zip(df_save[\"user_id\"],df_save[\"trump\"],df_save[\"biden\"]):\n",
    "        f1.write(str(user_id) + ' ' + str(trump)+\" \"+str(biden)+\"\\n\")\n",
    "    f1.close()   \n",
    "\n",
    "  "
   ]
  },
  {
   "cell_type": "code",
   "execution_count": 41,
   "id": "af0fc06d",
   "metadata": {},
   "outputs": [],
   "source": [
    "rootdir = 'E:\\\\result\\\\hashtag_conver_tag_1to10_4class'\n",
    "list_ = os.listdir(rootdir)\n",
    "path=os.path.join(rootdir,list_[0])\n",
    "df = pd.read_table(path,sep=\" \",header = None,\n",
    "                   names=[\"user_id\",\"trump_trump\",\"trump_biden\",\"trump_sum\",\"biden_biden\",\"biden_trump\",\"biden_sum\"])\n",
    "df[\"trump_precent\"] = df[\"trump_trump\"]/df[\"trump_sum\"]\n",
    "df[\"biden_precent\"] = df[\"biden_biden\"]/df[\"biden_sum\"]\n",
    "df[\"trump\"] = [\"0\" if j==0 else(\"2\" if k<0.1 else(\"3\" if k<0.9 else \"1\")) for j,k in zip(df[\"trump_sum\"],df[\"trump_precent\"])]  \n",
    "df[\"biden\"] = [\"0\" if j==0 else(\"2\" if k<0.1 else(\"3\" if k<0.9 else \"1\")) for j,k in zip(df[\"biden_sum\"],df[\"biden_precent\"])]  "
   ]
  },
  {
   "cell_type": "code",
   "execution_count": 46,
   "id": "c4f6f07b",
   "metadata": {},
   "outputs": [
    {
     "name": "stderr",
     "output_type": "stream",
     "text": [
      "<ipython-input-46-95427f8a28da>:1: UserWarning: Boolean Series key will be reindexed to match DataFrame index.\n",
      "  b=df[~df[\"trump\"].isin([\"3\"])][~df[\"biden\"].isin([\"3\"])]\n"
     ]
    }
   ],
   "source": [
    "b=df[~df[\"trump\"].isin([\"3\"])][~df[\"biden\"].isin([\"3\"])]"
   ]
  },
  {
   "cell_type": "code",
   "execution_count": 54,
   "id": "5c40a908",
   "metadata": {},
   "outputs": [],
   "source": [
    "b[[\"user_id\",\"trump\",\"biden\"]].to_csv(\"E:\\\\result\\\\user_id_4\\\\shiyan.txt\",sep=\"\\t\",index=False,header=False)"
   ]
  },
  {
   "cell_type": "code",
   "execution_count": 55,
   "id": "3f7b4363",
   "metadata": {},
   "outputs": [],
   "source": [
    "save_path = \"E:\\\\result\\\\user_id_4\\\\shiyan.txt\"\n",
    "f1 = open(save_path,'w')\n",
    "for user_id,trump,biden in zip(df[\"user_id\"],df[\"trump\"],df[\"biden\"]):\n",
    "    f1.write(str(user_id) + ' ' + str(trump)+\" \"+str(\"biden\")+\"\\n\")\n",
    "f1.close()   "
   ]
  }
 ],
 "metadata": {
  "kernelspec": {
   "display_name": "Python 3.9.13 ('base')",
   "language": "python",
   "name": "python3"
  },
  "language_info": {
   "codemirror_mode": {
    "name": "ipython",
    "version": 3
   },
   "file_extension": ".py",
   "mimetype": "text/x-python",
   "name": "python",
   "nbconvert_exporter": "python",
   "pygments_lexer": "ipython3",
   "version": "3.9.13"
  },
  "vscode": {
   "interpreter": {
    "hash": "e8d40850c2a0f24b66f067e47dfa0a8004f5b10da74c53ddf9ba21a3b5b0a20a"
   }
  }
 },
 "nbformat": 4,
 "nbformat_minor": 5
}
